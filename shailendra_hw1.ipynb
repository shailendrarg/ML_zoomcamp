{
 "cells": [
  {
   "cell_type": "code",
   "execution_count": 50,
   "metadata": {},
   "outputs": [],
   "source": [
    "import numpy as np\n",
    "import pandas as pd\n",
    "import seaborn as sns\n",
    "import matplotlib.pyplot as plt\n",
    "%matplotlib inline \n",
    "import wget\n",
    "import ipykernel"
   ]
  },
  {
   "cell_type": "markdown",
   "metadata": {},
   "source": [
    "Q1. Pandas version\n",
    "What's the version of Pandas that you installed?\n",
    "\n",
    "You can get the version information using the __version__ field:"
   ]
  },
  {
   "cell_type": "code",
   "execution_count": 51,
   "metadata": {},
   "outputs": [
    {
     "data": {
      "text/plain": [
       "'2.2.3'"
      ]
     },
     "execution_count": 51,
     "metadata": {},
     "output_type": "execute_result"
    }
   ],
   "source": [
    "pd.__version__"
   ]
  },
  {
   "cell_type": "markdown",
   "metadata": {},
   "source": [
    "Getting the data\n",
    "For this homework, we'll use the Laptops Price dataset. Download it from here.\n",
    "\n",
    "You can do it with wget:\n",
    "wget https://raw.githubusercontent.com/alexeygrigorev/datasets/master/laptops.csv"
   ]
  },
  {
   "cell_type": "code",
   "execution_count": 52,
   "metadata": {},
   "outputs": [],
   "source": [
    "import wget\n",
    "wget.download(\"https://raw.githubusercontent.com/alexeygrigorev/datasets/master/laptops.csv\",\"laptops.csv\")"
   ]
  },
  {
   "cell_type": "markdown",
   "metadata": {},
   "source": [
    "Q2. Records count\n",
    "How many records are in the dataset?\n",
    "\n",
    "12\n",
    "1000\n",
    "2160\n",
    "12160"
   ]
  },
  {
   "cell_type": "code",
   "execution_count": 53,
   "metadata": {},
   "outputs": [
    {
     "name": "stdout",
     "output_type": "stream",
     "text": [
      "total records are 2160\n"
     ]
    }
   ],
   "source": [
    "df=pd.read_csv(\"laptops.csv\")\n",
    "print(\"total records are\",len(df))"
   ]
  },
  {
   "cell_type": "markdown",
   "metadata": {},
   "source": [
    "Q3. Laptop brands\n",
    "How many laptop brands are presented in the dataset?\n",
    "\n",
    "12\n",
    "27\n",
    "28\n",
    "2160"
   ]
  },
  {
   "cell_type": "code",
   "execution_count": 54,
   "metadata": {},
   "outputs": [
    {
     "name": "stdout",
     "output_type": "stream",
     "text": [
      "total unique laptop brands are  27\n"
     ]
    }
   ],
   "source": [
    "num_unique_laptop_brands=df[\"Brand\"].nunique()\n",
    "print(\"total unique laptop brands are \",num_unique_laptop_brands)"
   ]
  },
  {
   "cell_type": "markdown",
   "metadata": {},
   "source": [
    "Q4. Missing values\n",
    "How many columns in the dataset have missing values?\n",
    "\n",
    "0\n",
    "1\n",
    "2\n",
    "3"
   ]
  },
  {
   "cell_type": "code",
   "execution_count": 55,
   "metadata": {},
   "outputs": [
    {
     "name": "stdout",
     "output_type": "stream",
     "text": [
      "Laptop             0\n",
      "Status             0\n",
      "Brand              0\n",
      "Model              0\n",
      "CPU                0\n",
      "RAM                0\n",
      "Storage            0\n",
      "Storage type      42\n",
      "GPU             1371\n",
      "Screen             4\n",
      "Touch              0\n",
      "Final Price        0\n",
      "dtype: int64\n",
      "total columns with missing values are  3 Storage type,GPU and Screen \n"
     ]
    }
   ],
   "source": [
    "missing_data=df.isna().sum()\n",
    "print(missing_data)\n",
    "print(\"total columns with missing values are \",3,\"Storage type,GPU and Screen \")"
   ]
  },
  {
   "cell_type": "markdown",
   "metadata": {},
   "source": [
    "Q5. Maximum final price\n",
    "What's the maximum final price of Dell notebooks in the dataset?\n",
    "\n",
    "869\n",
    "3691\n",
    "3849\n",
    "3936"
   ]
  },
  {
   "cell_type": "code",
   "execution_count": 56,
   "metadata": {},
   "outputs": [
    {
     "name": "stdout",
     "output_type": "stream",
     "text": [
      "3936.0\n"
     ]
    }
   ],
   "source": [
    "dell_notebooks=df[df[\"Brand\"]==\"Dell\"]\n",
    "max_price_dell=dell_notebooks[\"Final Price\"].max()\n",
    "print(max_price_dell)\n",
    "\n"
   ]
  },
  {
   "cell_type": "markdown",
   "metadata": {},
   "source": [
    "Q6. Median value of Screen\n",
    "Find the median value of Screen column in the dataset.\n",
    "Next, calculate the most frequent value of the same Screen column.\n",
    "Use fillna method to fill the missing values in Screen column with the most frequent value from the previous step.\n",
    "Now, calculate the median value of Screen once again.\n",
    "Has it changed?"
   ]
  },
  {
   "cell_type": "code",
   "execution_count": 57,
   "metadata": {},
   "outputs": [
    {
     "name": "stdout",
     "output_type": "stream",
     "text": [
      "Before 0    15.6\n",
      "Name: Screen, dtype: float64\n",
      "After 0    15.6\n",
      "Name: Screen, dtype: float64\n",
      "No change in value in before and After\n"
     ]
    }
   ],
   "source": [
    "df.columns\n",
    "#median value of screen\n",
    "df['Screen'].median()\n",
    "#most frequent values of screen series\n",
    "most_frequent=df['Screen'].mode()\n",
    "print(\"Before\",df['Screen'].mode())\n",
    "#missing values in screen\n",
    "df['Screen'].isna().sum()\n",
    "#filling missing value in screen with most frequent value\n",
    "df['Screen'].fillna(most_frequent)\n",
    "df['Screen'].mode()\n",
    "print(\"After\",df['Screen'].mode())\n",
    "#No change in value in before and After\n",
    "print(\"No change in value in before and After\")"
   ]
  },
  {
   "cell_type": "markdown",
   "metadata": {},
   "source": [
    "Q7. Sum of weights\n",
    "Select all the \"Innjoo\" laptops from the dataset.\n",
    "Select only columns RAM, Storage, Screen.\n",
    "Get the underlying NumPy array. Let's call it X.\n",
    "Compute matrix-matrix multiplication between the transpose of X and X. To get the transpose, use X.T. Let's call the result XTX.\n",
    "Compute the inverse of XTX.\n",
    "Create an array y with values [1100, 1300, 800, 900, 1000, 1100].\n",
    "Multiply the inverse of XTX with the transpose of X, and then multiply the result by y. Call the result w.\n",
    "What's the sum of all the elements of the result?\n",
    "Note: You just implemented linear regression. We'll talk about it in the next lesson.\n",
    "\n",
    "0.43\n",
    "45.29\n",
    "45.58\n",
    "91.30"
   ]
  },
  {
   "cell_type": "code",
   "execution_count": 58,
   "metadata": {},
   "outputs": [
    {
     "data": {
      "text/plain": [
       "array([[  8. , 256. ,  15.6],\n",
       "       [  8. , 512. ,  15.6],\n",
       "       [  4. ,  64. ,  14.1],\n",
       "       [  6. ,  64. ,  14.1],\n",
       "       [  6. , 128. ,  14.1],\n",
       "       [  6. , 128. ,  14.1]])"
      ]
     },
     "execution_count": 58,
     "metadata": {},
     "output_type": "execute_result"
    }
   ],
   "source": [
    "Innjoo_laptops=df[(df[\"Brand\"]==\"Innjoo\")]\n",
    "data=Innjoo_laptops[[\"RAM\",\"Storage\",\"Screen\"]]\n",
    "X=np.array(data)\n",
    "X"
   ]
  },
  {
   "cell_type": "code",
   "execution_count": 59,
   "metadata": {},
   "outputs": [
    {
     "data": {
      "text/plain": [
       "array([[  8. ,   8. ,   4. ,   6. ,   6. ,   6. ],\n",
       "       [256. , 512. ,  64. ,  64. , 128. , 128. ],\n",
       "       [ 15.6,  15.6,  14.1,  14.1,  14.1,  14.1]])"
      ]
     },
     "execution_count": 59,
     "metadata": {},
     "output_type": "execute_result"
    }
   ],
   "source": [
    "#transpose of X \n",
    "#way 1\n",
    "X.T"
   ]
  },
  {
   "cell_type": "code",
   "execution_count": 60,
   "metadata": {},
   "outputs": [
    {
     "data": {
      "text/plain": [
       "array([[  8. ,   8. ,   4. ,   6. ,   6. ,   6. ],\n",
       "       [256. , 512. ,  64. ,  64. , 128. , 128. ],\n",
       "       [ 15.6,  15.6,  14.1,  14.1,  14.1,  14.1]])"
      ]
     },
     "execution_count": 60,
     "metadata": {},
     "output_type": "execute_result"
    }
   ],
   "source": [
    "#transpose of X \n",
    "#way 2\n",
    "\n",
    "X_trans=np.matrix_transpose(X)\n",
    "X_trans\n"
   ]
  },
  {
   "cell_type": "code",
   "execution_count": 61,
   "metadata": {},
   "outputs": [
    {
     "data": {
      "text/plain": [
       "array([[2.52000e+02, 8.32000e+03, 5.59800e+02],\n",
       "       [8.32000e+03, 3.68640e+05, 1.73952e+04],\n",
       "       [5.59800e+02, 1.73952e+04, 1.28196e+03]])"
      ]
     },
     "execution_count": 61,
     "metadata": {},
     "output_type": "execute_result"
    }
   ],
   "source": [
    "XTX=X.T.dot(X)\n",
    "XTX"
   ]
  },
  {
   "cell_type": "code",
   "execution_count": 62,
   "metadata": {},
   "outputs": [
    {
     "data": {
      "text/plain": [
       "array([[2.52000e+02, 8.32000e+03, 5.59800e+02],\n",
       "       [8.32000e+03, 3.68640e+05, 1.73952e+04],\n",
       "       [5.59800e+02, 1.73952e+04, 1.28196e+03]])"
      ]
     },
     "execution_count": 62,
     "metadata": {},
     "output_type": "execute_result"
    }
   ],
   "source": [
    "#another way\n",
    "XTX=X_trans.dot(X)\n",
    "XTX"
   ]
  },
  {
   "cell_type": "code",
   "execution_count": 63,
   "metadata": {},
   "outputs": [
    {
     "data": {
      "text/plain": [
       "array([[ 2.78025381e-01, -1.51791334e-03, -1.00809855e-01],\n",
       "       [-1.51791334e-03,  1.58286725e-05,  4.48052175e-04],\n",
       "       [-1.00809855e-01,  4.48052175e-04,  3.87214888e-02]])"
      ]
     },
     "execution_count": 63,
     "metadata": {},
     "output_type": "execute_result"
    }
   ],
   "source": [
    "#Inverse of XTX\n",
    "inv_xtx=np.linalg.inv(XTX)\n",
    "inv_xtx"
   ]
  },
  {
   "cell_type": "code",
   "execution_count": 65,
   "metadata": {},
   "outputs": [
    {
     "data": {
      "text/plain": [
       "array([1100, 1300,  800,  900, 1000, 1100])"
      ]
     },
     "execution_count": 65,
     "metadata": {},
     "output_type": "execute_result"
    }
   ],
   "source": [
    "y=np.array([1100, 1300, 800, 900, 1000, 1100])\n",
    "y"
   ]
  },
  {
   "cell_type": "code",
   "execution_count": 68,
   "metadata": {},
   "outputs": [
    {
     "data": {
      "text/plain": [
       "array([45.58076606,  0.42783519, 45.29127938])"
      ]
     },
     "execution_count": 68,
     "metadata": {},
     "output_type": "execute_result"
    }
   ],
   "source": [
    "w=(inv_xtx @X_trans)@y\n",
    "w"
   ]
  },
  {
   "cell_type": "code",
   "execution_count": 71,
   "metadata": {},
   "outputs": [
    {
     "name": "stdout",
     "output_type": "stream",
     "text": [
      "the closest option for sum of weights is 91.30 with real value as  91.2998806299555\n"
     ]
    }
   ],
   "source": [
    "a=sum(w)\n",
    "a\n",
    "print(\"the closest option for sum of weights is 91.30 with real value as \",a)"
   ]
  },
  {
   "cell_type": "markdown",
   "metadata": {},
   "source": [
    "Submit the results\n",
    "Submit your results here: https://courses.datatalks.club/ml-zoomcamp-2024/homework/hw01\n",
    "If your answer doesn't match options exactly, select the closest one"
   ]
  }
 ],
 "metadata": {
  "kernelspec": {
   "display_name": "venv",
   "language": "python",
   "name": "python3"
  },
  "language_info": {
   "codemirror_mode": {
    "name": "ipython",
    "version": 3
   },
   "file_extension": ".py",
   "mimetype": "text/x-python",
   "name": "python",
   "nbconvert_exporter": "python",
   "pygments_lexer": "ipython3",
   "version": "3.11.9"
  }
 },
 "nbformat": 4,
 "nbformat_minor": 2
}
